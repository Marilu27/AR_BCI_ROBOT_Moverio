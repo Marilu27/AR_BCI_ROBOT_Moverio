{
  "nbformat": 4,
  "nbformat_minor": 0,
  "metadata": {
    "colab": {
      "name": "ARBCIROBOT-intrasoggettivo.ipynb",
      "provenance": [],
      "authorship_tag": "ABX9TyPVk05jHkOaZp6EpmAN3obB",
      "include_colab_link": true
    },
    "kernelspec": {
      "name": "python3",
      "display_name": "Python 3"
    },
    "language_info": {
      "name": "python"
    }
  },
  "cells": [
    {
      "cell_type": "markdown",
      "metadata": {
        "id": "view-in-github",
        "colab_type": "text"
      },
      "source": [
        "<a href=\"https://colab.research.google.com/github/Marilu27/AR_BCI_ROBOT_Moverio/blob/master/ARBCIROBOT_intrasoggettivo.ipynb\" target=\"_parent\"><img src=\"https://colab.research.google.com/assets/colab-badge.svg\" alt=\"Open In Colab\"/></a>"
      ]
    },
    {
      "cell_type": "code",
      "metadata": {
        "colab": {
          "base_uri": "https://localhost:8080/"
        },
        "id": "BX4g5A2ijI4R",
        "outputId": "0e20535e-85ba-4516-80e3-f95e60e45f3d"
      },
      "source": [
        "!pip install mne"
      ],
      "execution_count": 18,
      "outputs": [
        {
          "output_type": "stream",
          "text": [
            "Collecting mne\n",
            "\u001b[?25l  Downloading https://files.pythonhosted.org/packages/17/a8/7d8a10345082d4807907a268016b52dfa869b0c412cd84aa1d1de86e1e39/mne-0.22.0-py3-none-any.whl (6.9MB)\n",
            "\u001b[K     |████████████████████████████████| 6.9MB 4.2MB/s \n",
            "\u001b[?25hRequirement already satisfied: scipy>=0.17.1 in /usr/local/lib/python3.7/dist-packages (from mne) (1.4.1)\n",
            "Requirement already satisfied: numpy>=1.11.3 in /usr/local/lib/python3.7/dist-packages (from mne) (1.19.5)\n",
            "Installing collected packages: mne\n",
            "Successfully installed mne-0.22.0\n"
          ],
          "name": "stdout"
        }
      ]
    },
    {
      "cell_type": "code",
      "metadata": {
        "colab": {
          "base_uri": "https://localhost:8080/"
        },
        "id": "-jQe8eDjk7ZG",
        "outputId": "681e917d-1418-42d5-d5bf-111d390a01ff"
      },
      "source": [
        "!pwd utilsForDataset\n",
        "import sys "
      ],
      "execution_count": 29,
      "outputs": [
        {
          "output_type": "stream",
          "text": [
            "/content\n"
          ],
          "name": "stdout"
        }
      ]
    },
    {
      "cell_type": "code",
      "metadata": {
        "colab": {
          "base_uri": "https://localhost:8080/",
          "height": 501
        },
        "id": "inYsEOWHjMI0",
        "outputId": "fd25e2e4-8192-45e6-8182-0b54b818a347"
      },
      "source": [
        "import gc\n",
        "import sys \n",
        "sys.path.append('/content/ar_bci_robot')\n",
        "#from ar_bci_robot import*\n",
        "#from ar_bci_robot import run\n",
        "from run import run\n",
        "import numpy as np\n",
        "from ar_bci_robot import dataFuns \n",
        "from dataFuns import Percent \n",
        "import pandas as pd\n",
        "\n",
        "\n",
        "\n",
        "if __name__ == '__main__':\n",
        "    gc.collect()\n",
        "\n",
        "\n",
        "    ''' setting intra-soggettivo   '''\n",
        "    selSubJectsArr = ['CanAle', 'CapFra', 'CicMel', 'CioAnt', 'CraFed', 'CraSim', 'DasCre', 'DeAGio', 'DeLAnn', 'ErrErn', 'EspAnt', 'FalGia', 'FroMir', 'MocNic', 'PasLor', 'PesMar', 'PetPas', 'SpeMar', 'TeoAle', 'VasBen']\n",
        "    epochInSecondsArr = [3]\n",
        "    overlapInSecondsArr = [0] # # massimo 1 secondo, 0.5 o 1 s # con 10 in epoch mettere 0 per prima..\n",
        "    filterButterwothArr = [False] #\n",
        "    folds_arr = [1] # 1 per split train test per soggetto,\n",
        "    #folds_arr = [10] # 10 per k-fold, con k=10\n",
        "\n",
        "\n",
        "    ''' setting inter-soggettivo   '''\n",
        "    # selSubJectsArr = ['ALL']\n",
        "    # epochInSecondsArr = [3]\n",
        "    # overlapInSecondsArr = [0] # con 10 in epoch mettere 0 per prima..\n",
        "    # filterButterwothArr = [False]\n",
        "    # folds_arr = [20] # LOSO\n",
        "    # #folds_arr = [10] # K-fold\n",
        "\n",
        "\n",
        "    epochXoverlap = 1\n",
        "    numberOfSettings = len(selSubJectsArr) * epochXoverlap * len(filterButterwothArr) * len(folds_arr)\n",
        "    saveFiles = True # todo sistemare per 10-fold..\n",
        "\n",
        "    # combina i setting\n",
        "    n = 1\n",
        "    for epoch in epochInSecondsArr:\n",
        "        for overlap in overlapInSecondsArr:\n",
        "            if epoch == 10 and overlap != 0:  # con epoch 10 è inutile l'overlap\n",
        "                break\n",
        "            for filterB in filterButterwothArr:\n",
        "                for folds in folds_arr:\n",
        "\n",
        "                    acc = {}  # accuracy per soggetto e modello\n",
        "                    for subject in selSubJectsArr:\n",
        "\n",
        "                        settingStr = ' epoch: ' + str(epoch) + ' overlap: ' + str(overlap) + ' filterButterwoth: ' + str(filterB) + ' folds: ' + str(folds)\n",
        "\n",
        "                        print(f'\\n\\n\\n\\n#### setting:', n, '/', numberOfSettings, 'subject:', subject, settingStr, ' ####')\n",
        "\n",
        "                        # esegue un run su un soggetto, un setting settato, su modelli knn, svm, net\n",
        "                        acc[subject] = run(epoch, overlap, subject, filterB, saveFiles, folds)\n",
        "\n",
        "                        n += 1\n",
        "\n",
        "                    if saveFiles:\n",
        "                        if subject != 'ALL' and folds >= 1: # todo controllare bene se è ok...\n",
        "                            # calcola le medie e le std per soggetto/modello\n",
        "                            #\n",
        "                            #\n",
        "                            models = acc['CanAle'].keys()\n",
        "                            subjects = acc.keys()\n",
        "                            meansAcc = {}\n",
        "                            stdsAcc = {}\n",
        "\n",
        "                            for m in models:\n",
        "                                acc_subjects = []\n",
        "\n",
        "                                for s in subjects:\n",
        "                                    acc_subjects.append(acc[s][m])\n",
        "\n",
        "                                acc_subjects = np.array(acc_subjects).astype(np.float32)\n",
        "                                meansAcc[m] = Percent(np.mean(acc_subjects)).__str__()\n",
        "                                stdsAcc[m] = Percent(np.std(acc_subjects)).__str__()\n",
        "\n",
        "\n",
        "                            # stampa di riepilogo/check\n",
        "                            #\n",
        "                            #\n",
        "                            print('\\n\\n---------------------------------------------------------------------\\nSETTING: ' + settingStr)\n",
        "\n",
        "                            print('\\nACCURACY: ')\n",
        "                            for subj in acc:\n",
        "                                print('\\t' + subj)\n",
        "                                for model in acc[subj]:\n",
        "                                    print(\n",
        "                                        '\\t\\t' + model + '\\t' + Percent(acc[subj][model]).__str__())\n",
        "                            print('\\t-MEAN / STD:')\n",
        "                            for m in models:\n",
        "                                print('\\t\\t' + m + ': ' + meansAcc[m] + ' / ' + stdsAcc[m])\n",
        "\n",
        "\n",
        "                            # salva su file le medie e le std\n",
        "                            #\n",
        "                            #\n",
        "                            for m in models:\n",
        "                                d = {\n",
        "                                    'subject': 'mean±std',\n",
        "                                    # accuracy\n",
        "                                    'acc': 'acc ' + meansAcc[m] + '±' + stdsAcc[m],\n",
        "                                    # setting file name\n",
        "                                    'setting': m + ' - ' + settingStr,\n",
        "\n",
        "                                }\n",
        "                                df = pd.DataFrame(data=d, index=[0])\n",
        "                                df.to_csv('run_MeanStd.csv', mode='a', header=False, index=False, sep='\\t')\n",
        "\n",
        "\n",
        "\n"
      ],
      "execution_count": 33,
      "outputs": [
        {
          "output_type": "stream",
          "text": [
            "\n",
            "\n",
            "\n",
            "\n",
            "#### setting: 1 / 20 subject: CanAle  epoch: 3 overlap: 0 filterButterwoth: False folds: 1  ####\n"
          ],
          "name": "stdout"
        },
        {
          "output_type": "error",
          "ename": "NameError",
          "evalue": "ignored",
          "traceback": [
            "\u001b[0;31m---------------------------------------------------------------------------\u001b[0m",
            "\u001b[0;31mNameError\u001b[0m                                 Traceback (most recent call last)",
            "\u001b[0;32m<ipython-input-33-8173dcb389fe>\u001b[0m in \u001b[0;36m<module>\u001b[0;34m()\u001b[0m\n\u001b[1;32m     55\u001b[0m \u001b[0;34m\u001b[0m\u001b[0m\n\u001b[1;32m     56\u001b[0m                         \u001b[0;31m# esegue un run su un soggetto, un setting settato, su modelli knn, svm, net\u001b[0m\u001b[0;34m\u001b[0m\u001b[0;34m\u001b[0m\u001b[0;34m\u001b[0m\u001b[0m\n\u001b[0;32m---> 57\u001b[0;31m                         \u001b[0macc\u001b[0m\u001b[0;34m[\u001b[0m\u001b[0msubject\u001b[0m\u001b[0;34m]\u001b[0m \u001b[0;34m=\u001b[0m \u001b[0mrun\u001b[0m\u001b[0;34m(\u001b[0m\u001b[0mepoch\u001b[0m\u001b[0;34m,\u001b[0m \u001b[0moverlap\u001b[0m\u001b[0;34m,\u001b[0m \u001b[0msubject\u001b[0m\u001b[0;34m,\u001b[0m \u001b[0mfilterB\u001b[0m\u001b[0;34m,\u001b[0m \u001b[0msaveFiles\u001b[0m\u001b[0;34m,\u001b[0m \u001b[0mfolds\u001b[0m\u001b[0;34m)\u001b[0m\u001b[0;34m\u001b[0m\u001b[0;34m\u001b[0m\u001b[0m\n\u001b[0m\u001b[1;32m     58\u001b[0m \u001b[0;34m\u001b[0m\u001b[0m\n\u001b[1;32m     59\u001b[0m                         \u001b[0mn\u001b[0m \u001b[0;34m+=\u001b[0m \u001b[0;36m1\u001b[0m\u001b[0;34m\u001b[0m\u001b[0;34m\u001b[0m\u001b[0m\n",
            "\u001b[0;32m/content/ar_bci_robot/run.py\u001b[0m in \u001b[0;36mrun\u001b[0;34m(epoch, overlap, subject, filterB, saveFiles, folds)\u001b[0m\n\u001b[1;32m     22\u001b[0m \u001b[0;34m\u001b[0m\u001b[0m\n\u001b[1;32m     23\u001b[0m     \u001b[0;31m# LOAD DATASET\u001b[0m\u001b[0;34m\u001b[0m\u001b[0;34m\u001b[0m\u001b[0;34m\u001b[0m\u001b[0m\n\u001b[0;32m---> 24\u001b[0;31m     X, Y, subjects, mats, filesName = loadData_Moverio_2stimuli(\n\u001b[0m\u001b[1;32m     25\u001b[0m                             \u001b[0mepoch_in_seconds\u001b[0m\u001b[0;34m=\u001b[0m\u001b[0mepoch\u001b[0m\u001b[0;34m,\u001b[0m\u001b[0;34m\u001b[0m\u001b[0;34m\u001b[0m\u001b[0m\n\u001b[1;32m     26\u001b[0m                             \u001b[0moverlap_in_seconds\u001b[0m\u001b[0;34m=\u001b[0m\u001b[0moverlap\u001b[0m\u001b[0;34m,\u001b[0m\u001b[0;34m\u001b[0m\u001b[0;34m\u001b[0m\u001b[0m\n",
            "\u001b[0;31mNameError\u001b[0m: name 'loadData_Moverio_2stimuli' is not defined"
          ]
        }
      ]
    }
  ]
}